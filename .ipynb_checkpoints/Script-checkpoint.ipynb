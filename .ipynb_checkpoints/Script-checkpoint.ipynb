{
 "cells": [
  {
   "cell_type": "markdown",
   "metadata": {},
   "source": [
    "# House Price Prediction"
   ]
  },
  {
   "cell_type": "markdown",
   "metadata": {},
   "source": [
    "### Introduction"
   ]
  },
  {
   "cell_type": "markdown",
   "metadata": {},
   "source": [
    "The dataset provided contains a set of variables that could determine the housing prices in a locality . The challenge here is to build a model which could predict the prices accurately . Its a classic regression problem and the metric to be used here is RMSE score as per the competition page . We have been provided with the train and test dataset to play with . Lets get started."
   ]
  },
  {
   "cell_type": "markdown",
   "metadata": {},
   "source": [
    "### Loading the required libraries and dataset "
   ]
  },
  {
   "cell_type": "code",
   "execution_count": 1,
   "metadata": {},
   "outputs": [],
   "source": [
    "import numpy as np\n",
    "import pandas as pd\n",
    "import matplotlib.pyplot as plt\n",
    "import seaborn as sns\n",
    "import warnings\n",
    "import math\n",
    "import gc\n",
    "import datetime as dt\n",
    "warnings.filterwarnings('ignore')\n",
    "%matplotlib inline\n",
    "\n",
    "### Modelling:\n",
    "from sklearn.ensemble import RandomForestRegressor\n",
    "from sklearn.preprocessing import LabelEncoder\n"
   ]
  },
  {
   "cell_type": "markdown",
   "metadata": {},
   "source": [
    "Going by the description of the dataset I see that most of the columns should be of categorical datatype . I create a custom dictionary to define the datatypes and read the dataset assigning this datatype."
   ]
  },
  {
   "cell_type": "code",
   "execution_count": 2,
   "metadata": {},
   "outputs": [],
   "source": [
    "dtypes = {'Id':'int64',\n",
    "         'MSSubClass':'category',\n",
    "         'MSZoning':'category',\n",
    "         'LotFrontage':'object',\n",
    "         'LotArea':'float64',\n",
    "         'Street':'category',\n",
    "         'Alley':'category',\n",
    "         'LotShape':'category',\n",
    "         'LandContour':'category',\n",
    "         'Utilities':'category',\n",
    "         'LotConfig':'category',\n",
    "         'LandSlope':'category',\n",
    "         'Neighborhood':'category',\n",
    "         'Condition1':'category',\n",
    "         'Condition2':'category',\n",
    "         'BldgType':'category',\n",
    "         'HouseStyle':'category',\n",
    "         'OverallQual':'category',\n",
    "         'OverallCond':'category',\n",
    "         'YearBuilt':'int64',\n",
    "         'YearRemodAdd':'int64',\n",
    "         'RoofStyle':'category',\n",
    "         'RoofMatl':'category',\n",
    "         'Exterior1st':'category',\n",
    "         'Exterior2nd':'category',\n",
    "         'MasVnrType':'category',\n",
    "         'MasVnrArea':'object',\n",
    "         'ExterQual':'category',\n",
    "         'ExterCond':'category',\n",
    "         'Foundation':'category',\n",
    "         'BsmtQual':'category',\n",
    "         'BsmtCond':'category',\n",
    "         'BsmtExposure':'category',\n",
    "         'BsmtFinType1':'category',\n",
    "         'BsmtFinSF1':'float32',\n",
    "         'BsmtFinType2':'category',\n",
    "         'BsmtFinSF2':'float32',\n",
    "         'BsmtUnfSF':'float32',\n",
    "         'TotalBsmtSF':'float32',\n",
    "         'Heating':'category',\n",
    "         'HeatingQC':'category',\n",
    "         'CentralAir':'category',\n",
    "         'Electrical':'category',\n",
    "         '1stFlrSF':'int64',\n",
    "         '2ndFlrSF':'int64',\n",
    "         'LowQualFinSF':'float32',\n",
    "         'GrLivArea':'float32',\n",
    "         'BsmtFullBath':'float32',\n",
    "         'BsmtHalfBath':'float32',\n",
    "         'FullBath':'int64',\n",
    "         'HalfBath':'int64',\n",
    "         'BedroomAbvGr':'int64',\n",
    "         'KitchenAbvGr':'int64',\n",
    "         'KitchenQual':'category',\n",
    "         'TotRmsAbvGrd':'int64',\n",
    "         'Functional':'category',\n",
    "         'Fireplaces':'int8',\n",
    "         'FireplaceQu':'category',\n",
    "         'GarageType':'category',\n",
    "         'GarageYrBlt':'object',\n",
    "         'GarageFinish':'category',\n",
    "         'GarageCars':'float32',\n",
    "         'GarageArea':'float32',\n",
    "         'GarageQual':'category',\n",
    "         'GarageCond':'category',\n",
    "         'PavedDrive':'category',\n",
    "         'WoodDeckSF':'float32',\n",
    "         'OpenPorchSF':'float32',\n",
    "         'EnclosedPorch':'float32',\n",
    "         '3SsnPorch':'float32',\n",
    "         'ScreenPorch':'float16',\n",
    "         'PoolArea':'float16',\n",
    "         'PoolQC':'category',\n",
    "         'Fence':'category',\n",
    "         'MiscFeature':'category',\n",
    "         'MiscVal':'float16',\n",
    "         'MoSold':'float16',\n",
    "         'YrSold':'float16',\n",
    "         'SaleType':'category',\n",
    "         'SaleCondition':'category',\n",
    "         'SalePrice':'int64'}"
   ]
  },
  {
   "cell_type": "code",
   "execution_count": 3,
   "metadata": {},
   "outputs": [],
   "source": [
    "kaggle=0\n",
    "if kaggle==0:\n",
    "    train=pd.read_csv('train.csv',dtype=dtypes)\n",
    "    test=pd.read_csv('test.csv',dtype=dtypes)\n",
    "else:\n",
    "    train=pd.read_csv('../input/train.csv',dtype=dtypes)\n",
    "    test=pd.read_csv('../input/test.csv',dtype=dtypes)\n"
   ]
  },
  {
   "cell_type": "code",
   "execution_count": null,
   "metadata": {},
   "outputs": [],
   "source": [
    "print(\"Train dataset has {} rows and {} columns\".format(train.shape[0],train.shape[1]))"
   ]
  },
  {
   "cell_type": "code",
   "execution_count": null,
   "metadata": {},
   "outputs": [],
   "source": [
    "print(\"Test dataset has {} rows and {} columns\".format(test.shape[0],test.shape[1]))"
   ]
  },
  {
   "cell_type": "code",
   "execution_count": null,
   "metadata": {},
   "outputs": [],
   "source": [
    "train.info()"
   ]
  },
  {
   "cell_type": "markdown",
   "metadata": {},
   "source": [
    "The predictor variable here is the saleprice . Lets check the distribution of the saleprice in the training dataset."
   ]
  },
  {
   "cell_type": "markdown",
   "metadata": {},
   "source": [
    "### Exploratory Data Analysis"
   ]
  },
  {
   "cell_type": "code",
   "execution_count": 4,
   "metadata": {},
   "outputs": [
    {
     "data": {
      "text/plain": [
       "Text(0.5, 1.0, 'Distribution of SalePrice')"
      ]
     },
     "execution_count": 4,
     "metadata": {},
     "output_type": "execute_result"
    },
    {
     "data": {
      "image/png": "[encoded data removed]",
      "text/plain": [
       "<Figure size 576x576 with 1 Axes>"
      ]
     },
     "metadata": {
      "needs_background": "light"
     },
     "output_type": "display_data"
    }
   ],
   "source": [
    "plt.figure(figsize=(8,8))\n",
    "ax=sns.distplot(train['SalePrice'],color='red')\n",
    "ax.set_xlabel('SalePrice')\n",
    "ax.set_title('Distribution of SalePrice')"
   ]
  },
  {
   "cell_type": "markdown",
   "metadata": {},
   "source": [
    "The distribution is a perfect normal curve with some outliers in the extremes.Lets check the median value of the sale price with respect to the year built."
   ]
  },
  {
   "cell_type": "code",
   "execution_count": null,
   "metadata": {},
   "outputs": [],
   "source": [
    "print(\"Train data has sale price from staring year {} to ending year {}\".format(min(train['YearBuilt']),max(train['YearBuilt'])))"
   ]
  },
  {
   "cell_type": "code",
   "execution_count": null,
   "metadata": {},
   "outputs": [],
   "source": [
    "print(\"Test data has sale price from staring year {} to ending year {}\".format(min(test['YearBuilt']),max(test['YearBuilt'])))"
   ]
  },
  {
   "cell_type": "code",
   "execution_count": null,
   "metadata": {},
   "outputs": [],
   "source": [
    "year_sale=train.groupby('YearBuilt')['SalePrice'].median()\n",
    "year_sale.plot()"
   ]
  },
  {
   "cell_type": "markdown",
   "metadata": {},
   "source": [
    "The sale price seem to be showing a fluctuating trend over the year."
   ]
  },
  {
   "cell_type": "markdown",
   "metadata": {},
   "source": [
    "The metric used for checking the model is rmsle .Therefore lets convert the sales price to log scale."
   ]
  },
  {
   "cell_type": "code",
   "execution_count": 7,
   "metadata": {},
   "outputs": [],
   "source": [
    "# train['SalePrice']=np.log1p(train['SalePrice'])"
   ]
  },
  {
   "cell_type": "code",
   "execution_count": 8,
   "metadata": {},
   "outputs": [
    {
     "data": {
      "text/plain": [
       "Text(0.5, 1.0, 'Distribution of SalePrice(Log Scale)')"
      ]
     },
     "execution_count": 8,
     "metadata": {},
     "output_type": "execute_result"
    },
    {
     "data": {
      "image/png": "[encoded data removed]",
      "text/plain": [
       "<Figure size 576x576 with 1 Axes>"
      ]
     },
     "metadata": {
      "needs_background": "light"
     },
     "output_type": "display_data"
    }
   ],
   "source": [
    "# plt.figure(figsize=(8,8))\n",
    "# ax=sns.distplot(train['SalePrice'],color='red')\n",
    "# ax.set_xlabel('SalePrice')\n",
    "# ax.set_title('Distribution of SalePrice(Log Scale)')"
   ]
  },
  {
   "cell_type": "markdown",
   "metadata": {},
   "source": [
    "The distribution is a perfect normal."
   ]
  },
  {
   "cell_type": "markdown",
   "metadata": {},
   "source": [
    "Lets check if there are any null values in the dataset."
   ]
  },
  {
   "cell_type": "code",
   "execution_count": 9,
   "metadata": {},
   "outputs": [
    {
     "data": {
      "text/plain": [
       "True"
      ]
     },
     "execution_count": 9,
     "metadata": {},
     "output_type": "execute_result"
    }
   ],
   "source": [
    "train.isnull().values.any()"
   ]
  },
  {
   "cell_type": "code",
   "execution_count": 10,
   "metadata": {},
   "outputs": [
    {
     "data": {
      "text/plain": [
       "True"
      ]
     },
     "execution_count": 10,
     "metadata": {},
     "output_type": "execute_result"
    }
   ],
   "source": [
    "test.isnull().values.any()"
   ]
  },
  {
   "cell_type": "markdown",
   "metadata": {},
   "source": [
    "Thus we see that there are columns both in train and test data having null values . The total number of rows present is 1460 . Therefore we consider a threashold of 500 and check the columns having more than 500 null values and remove them."
   ]
  },
  {
   "cell_type": "code",
   "execution_count": 7,
   "metadata": {},
   "outputs": [],
   "source": [
    "def check_null(df):\n",
    "    null=df.isnull().sum()\n",
    "    focus_columns=null[null>0]\n",
    "    \n",
    "    return(focus_columns)"
   ]
  },
  {
   "cell_type": "code",
   "execution_count": 8,
   "metadata": {},
   "outputs": [
    {
     "name": "stdout",
     "output_type": "stream",
     "text": [
      "Columns to focus in train dataset:\n",
      " LotFrontage      259\n",
      "Alley           1369\n",
      "MasVnrType         8\n",
      "MasVnrArea         8\n",
      "BsmtQual          37\n",
      "BsmtCond          37\n",
      "BsmtExposure      38\n",
      "BsmtFinType1      37\n",
      "BsmtFinType2      38\n",
      "Electrical         1\n",
      "FireplaceQu      690\n",
      "GarageType        81\n",
      "GarageYrBlt       81\n",
      "GarageFinish      81\n",
      "GarageQual        81\n",
      "GarageCond        81\n",
      "PoolQC          1453\n",
      "Fence           1179\n",
      "MiscFeature     1406\n",
      "dtype: int64 \n",
      "Columns to focus in test dataset:\n",
      " MSZoning           4\n",
      "LotFrontage      227\n",
      "Alley           1352\n",
      "Utilities          2\n",
      "Exterior1st        1\n",
      "Exterior2nd        1\n",
      "MasVnrType        16\n",
      "MasVnrArea        15\n",
      "BsmtQual          44\n",
      "BsmtCond          45\n",
      "BsmtExposure      44\n",
      "BsmtFinType1      42\n",
      "BsmtFinSF1         1\n",
      "BsmtFinType2      42\n",
      "BsmtFinSF2         1\n",
      "BsmtUnfSF          1\n",
      "TotalBsmtSF        1\n",
      "BsmtFullBath       2\n",
      "BsmtHalfBath       2\n",
      "KitchenQual        1\n",
      "Functional         2\n",
      "FireplaceQu      730\n",
      "GarageType        76\n",
      "GarageYrBlt       78\n",
      "GarageFinish      78\n",
      "GarageCars         1\n",
      "GarageArea         1\n",
      "GarageQual        78\n",
      "GarageCond        78\n",
      "PoolQC          1456\n",
      "Fence           1169\n",
      "MiscFeature     1408\n",
      "SaleType           1\n",
      "dtype: int64\n"
     ]
    }
   ],
   "source": [
    "focus_columns_train=check_null(train)\n",
    "focus_columns_test=check_null(test)\n",
    "print(\"Columns to focus in train dataset:\\n {} \\nColumns to focus in test dataset:\\n {}\".format(focus_columns_train,focus_columns_test))"
   ]
  },
  {
   "cell_type": "markdown",
   "metadata": {},
   "source": [
    "Thus we see that there are 5 columns in train and test having null values in more than 500 rows . Lets remove them."
   ]
  },
  {
   "cell_type": "code",
   "execution_count": 9,
   "metadata": {},
   "outputs": [],
   "source": [
    "train_clean=train.drop(['Alley','FireplaceQu','PoolQC','Fence','MiscFeature'],axis=1)\n",
    "test_clean=test.drop(['Alley','FireplaceQu','PoolQC','Fence','MiscFeature'],axis=1)"
   ]
  },
  {
   "cell_type": "markdown",
   "metadata": {},
   "source": [
    "Other columns having null values need to be imputed before we build a basic model.Lets check the train dataset first."
   ]
  },
  {
   "cell_type": "code",
   "execution_count": 10,
   "metadata": {},
   "outputs": [
    {
     "name": "stdout",
     "output_type": "stream",
     "text": [
      "There are 14 columns to be imputed \n",
      " The columns are \n",
      "Index(['LotFrontage', 'MasVnrType', 'MasVnrArea', 'BsmtQual', 'BsmtCond',\n",
      "       'BsmtExposure', 'BsmtFinType1', 'BsmtFinType2', 'Electrical',\n",
      "       'GarageType', 'GarageYrBlt', 'GarageFinish', 'GarageQual',\n",
      "       'GarageCond'],\n",
      "      dtype='object')\n"
     ]
    }
   ],
   "source": [
    "impute_columns_train=focus_columns_train[focus_columns_train<500]\n",
    "print(\"There are {} columns to be imputed \\n The columns are \\n{}\".format(len(impute_columns_train),impute_columns_train.index))"
   ]
  },
  {
   "cell_type": "markdown",
   "metadata": {},
   "source": [
    "Lets check the description of these columns to decide on the imputing criteria."
   ]
  },
  {
   "cell_type": "code",
   "execution_count": 104,
   "metadata": {},
   "outputs": [
    {
     "name": "stdout",
     "output_type": "stream",
     "text": [
      "<class 'pandas.core.frame.DataFrame'>\n",
      "RangeIndex: 1460 entries, 0 to 1459\n",
      "Data columns (total 14 columns):\n",
      "LotFrontage     1201 non-null object\n",
      "MasVnrType      1452 non-null category\n",
      "MasVnrArea      1452 non-null object\n",
      "BsmtQual        1423 non-null category\n",
      "BsmtCond        1423 non-null category\n",
      "BsmtExposure    1422 non-null category\n",
      "BsmtFinType1    1423 non-null category\n",
      "BsmtFinType2    1422 non-null category\n",
      "Electrical      1459 non-null category\n",
      "GarageType      1379 non-null category\n",
      "GarageYrBlt     1379 non-null object\n",
      "GarageFinish    1379 non-null category\n",
      "GarageQual      1379 non-null category\n",
      "GarageCond      1379 non-null category\n",
      "dtypes: category(11), object(3)\n",
      "memory usage: 52.0+ KB\n"
     ]
    }
   ],
   "source": [
    "train_clean[['LotFrontage', 'MasVnrType', 'MasVnrArea', 'BsmtQual', 'BsmtCond',\n",
    "       'BsmtExposure', 'BsmtFinType1', 'BsmtFinType2', 'Electrical',\n",
    "       'GarageType', 'GarageYrBlt', 'GarageFinish', 'GarageQual',\n",
    "       'GarageCond']].info()"
   ]
  },
  {
   "cell_type": "markdown",
   "metadata": {},
   "source": [
    "Only 3 variables are numerical variables while others are categorical.We try to impute the missing values with median values in that column."
   ]
  },
  {
   "cell_type": "code",
   "execution_count": 11,
   "metadata": {},
   "outputs": [],
   "source": [
    "### Inspited from https://www.kaggle.com/serigne/stacked-regressions-top-4-on-leaderboard\n",
    "###https://www.kaggle.com/tunguz/more-effective-ridge-lgbm-script-lb-0-44341-2\n",
    "for col in ['LotFrontage','MasVnrArea','GarageYrBlt']:\n",
    "    train_clean[col]=train_clean[col].fillna(train_clean[col].median()).astype('float16')"
   ]
  },
  {
   "cell_type": "markdown",
   "metadata": {},
   "source": [
    "All the other categorical variables except electrical can be imputed with NA since in the data description there is a separate category 'NA'."
   ]
  },
  {
   "cell_type": "code",
   "execution_count": 12,
   "metadata": {},
   "outputs": [],
   "source": [
    "for col in ['GarageType','GarageFinish','GarageQual','GarageCond','BsmtQual','BsmtCond','BsmtExposure','BsmtFinType1','BsmtFinType2','MasVnrType']:\n",
    "    train_clean[col]=train_clean[col].cat.add_categories('NA')\n",
    "    train_clean[col]=train_clean[col].fillna('NA')"
   ]
  },
  {
   "cell_type": "code",
   "execution_count": 107,
   "metadata": {},
   "outputs": [
    {
     "data": {
      "text/plain": [
       "SBrkr    1334\n",
       "FuseA      94\n",
       "FuseF      27\n",
       "FuseP       3\n",
       "Mix         1\n",
       "Name: Electrical, dtype: int64"
      ]
     },
     "execution_count": 107,
     "metadata": {},
     "output_type": "execute_result"
    }
   ],
   "source": [
    "train_clean['Electrical'].value_counts()"
   ]
  },
  {
   "cell_type": "markdown",
   "metadata": {},
   "source": [
    "Standard Circuit Breakers & Romex is the type most used for the electrical system and hence we impute that value."
   ]
  },
  {
   "cell_type": "code",
   "execution_count": 13,
   "metadata": {},
   "outputs": [],
   "source": [
    "train_clean['Electrical']=train_clean['Electrical'].fillna('SBrkr')"
   ]
  },
  {
   "cell_type": "markdown",
   "metadata": {},
   "source": [
    "Now lets check if there are any more null values."
   ]
  },
  {
   "cell_type": "code",
   "execution_count": 14,
   "metadata": {},
   "outputs": [
    {
     "data": {
      "text/plain": [
       "False"
      ]
     },
     "execution_count": 14,
     "metadata": {},
     "output_type": "execute_result"
    }
   ],
   "source": [
    "del impute_columns_train\n",
    "del focus_columns_train\n",
    "train_clean.isnull().values.any()"
   ]
  },
  {
   "cell_type": "code",
   "execution_count": 110,
   "metadata": {},
   "outputs": [],
   "source": [
    "#train_clean.info()"
   ]
  },
  {
   "cell_type": "markdown",
   "metadata": {},
   "source": [
    "Now lets take the test dataset and impute the missing values."
   ]
  },
  {
   "cell_type": "code",
   "execution_count": 15,
   "metadata": {},
   "outputs": [
    {
     "name": "stdout",
     "output_type": "stream",
     "text": [
      "There are 28 columns to be imputed \n",
      " The columns are \n",
      "Index(['MSZoning', 'LotFrontage', 'Utilities', 'Exterior1st', 'Exterior2nd',\n",
      "       'MasVnrType', 'MasVnrArea', 'BsmtQual', 'BsmtCond', 'BsmtExposure',\n",
      "       'BsmtFinType1', 'BsmtFinSF1', 'BsmtFinType2', 'BsmtFinSF2', 'BsmtUnfSF',\n",
      "       'TotalBsmtSF', 'BsmtFullBath', 'BsmtHalfBath', 'KitchenQual',\n",
      "       'Functional', 'GarageType', 'GarageYrBlt', 'GarageFinish', 'GarageCars',\n",
      "       'GarageArea', 'GarageQual', 'GarageCond', 'SaleType'],\n",
      "      dtype='object')\n"
     ]
    }
   ],
   "source": [
    "impute_columns_test=focus_columns_test[focus_columns_test<500]\n",
    "print(\"There are {} columns to be imputed \\n The columns are \\n{}\".format(len(impute_columns_test),impute_columns_test.index))"
   ]
  },
  {
   "cell_type": "code",
   "execution_count": 112,
   "metadata": {},
   "outputs": [
    {
     "name": "stdout",
     "output_type": "stream",
     "text": [
      "<class 'pandas.core.frame.DataFrame'>\n",
      "RangeIndex: 1459 entries, 0 to 1458\n",
      "Data columns (total 28 columns):\n",
      "MSZoning        1455 non-null category\n",
      "LotFrontage     1232 non-null object\n",
      "Utilities       1457 non-null category\n",
      "Exterior1st     1458 non-null category\n",
      "Exterior2nd     1458 non-null category\n",
      "MasVnrType      1443 non-null category\n",
      "MasVnrArea      1444 non-null object\n",
      "BsmtQual        1415 non-null category\n",
      "BsmtCond        1414 non-null category\n",
      "BsmtExposure    1415 non-null category\n",
      "BsmtFinType1    1417 non-null category\n",
      "BsmtFinSF1      1458 non-null float32\n",
      "BsmtFinType2    1417 non-null category\n",
      "BsmtFinSF2      1458 non-null float32\n",
      "BsmtUnfSF       1458 non-null float32\n",
      "TotalBsmtSF     1458 non-null float32\n",
      "BsmtFullBath    1457 non-null float32\n",
      "BsmtHalfBath    1457 non-null float32\n",
      "KitchenQual     1458 non-null category\n",
      "Functional      1457 non-null category\n",
      "GarageType      1383 non-null category\n",
      "GarageYrBlt     1381 non-null object\n",
      "GarageFinish    1381 non-null category\n",
      "GarageCars      1458 non-null float32\n",
      "GarageArea      1458 non-null float32\n",
      "GarageQual      1381 non-null category\n",
      "GarageCond      1381 non-null category\n",
      "SaleType        1458 non-null category\n",
      "dtypes: category(17), float32(8), object(3)\n",
      "memory usage: 108.5+ KB\n"
     ]
    }
   ],
   "source": [
    "test_clean[['MSZoning', 'LotFrontage', 'Utilities', 'Exterior1st', 'Exterior2nd',\n",
    "       'MasVnrType', 'MasVnrArea', 'BsmtQual', 'BsmtCond', 'BsmtExposure',\n",
    "       'BsmtFinType1', 'BsmtFinSF1', 'BsmtFinType2', 'BsmtFinSF2', 'BsmtUnfSF',\n",
    "       'TotalBsmtSF', 'BsmtFullBath', 'BsmtHalfBath', 'KitchenQual',\n",
    "       'Functional', 'GarageType', 'GarageYrBlt', 'GarageFinish', 'GarageCars',\n",
    "       'GarageArea', 'GarageQual', 'GarageCond', 'SaleType']].info()"
   ]
  },
  {
   "cell_type": "code",
   "execution_count": 16,
   "metadata": {},
   "outputs": [],
   "source": [
    "for col in ['BsmtFinSF1','BsmtFinSF2','BsmtUnfSF','TotalBsmtSF','BsmtFullBath','BsmtHalfBath','GarageCars','GarageArea','LotFrontage','MasVnrArea','GarageYrBlt']:\n",
    "    test_clean[col]=test_clean[col].fillna(test_clean[col].median()).astype('float16')"
   ]
  },
  {
   "cell_type": "code",
   "execution_count": 17,
   "metadata": {},
   "outputs": [],
   "source": [
    "for col in ['GarageType','GarageFinish','GarageQual','GarageCond','BsmtQual','BsmtCond','BsmtExposure','BsmtFinType1','BsmtFinType2','MasVnrType']:\n",
    "    test_clean[col]=test_clean[col].cat.add_categories('NA')\n",
    "    test_clean[col]=test_clean[col].fillna('NA')"
   ]
  },
  {
   "cell_type": "markdown",
   "metadata": {},
   "source": [
    "The other columns - Exterior1st,Exterior2nd,Utilities,MSZoning,saletype,functional and Kitchen Qual do have have inherent NA value and hence they will be imputed with maximum value."
   ]
  },
  {
   "cell_type": "code",
   "execution_count": 19,
   "metadata": {},
   "outputs": [
    {
     "name": "stdout",
     "output_type": "stream",
     "text": [
      "Imputing col Exterior1st with VinylSd\n",
      "Imputing col Exterior2nd with VinylSd\n",
      "Imputing col Utilities with AllPub\n",
      "Imputing col MSZoning with RL\n",
      "Imputing col SaleType with WD\n",
      "Imputing col Functional with Typ\n",
      "Imputing col KitchenQual with TA\n"
     ]
    }
   ],
   "source": [
    "## https://stackoverflow.com/questions/25239958/impute-categorical-missing-values-in-scikit-learn\n",
    "\n",
    "for col in ['Exterior1st','Exterior2nd','Utilities','MSZoning','SaleType','Functional','KitchenQual']:\n",
    "    print(f'Imputing col {col} with {test_clean[col].value_counts().index[0]}')\n",
    "    test_clean[col]=test_clean[col].fillna(test_clean[col].value_counts().index[0])"
   ]
  },
  {
   "cell_type": "code",
   "execution_count": 20,
   "metadata": {},
   "outputs": [
    {
     "data": {
      "text/plain": [
       "False"
      ]
     },
     "execution_count": 20,
     "metadata": {},
     "output_type": "execute_result"
    }
   ],
   "source": [
    "test_clean.isnull().values.any()"
   ]
  },
  {
   "cell_type": "code",
   "execution_count": 117,
   "metadata": {},
   "outputs": [],
   "source": [
    "#test_clean.info()"
   ]
  },
  {
   "cell_type": "code",
   "execution_count": 21,
   "metadata": {},
   "outputs": [],
   "source": [
    "del train\n",
    "del test"
   ]
  },
  {
   "cell_type": "code",
   "execution_count": 22,
   "metadata": {},
   "outputs": [],
   "source": [
    "\n",
    "ntrain=train_clean.shape[0]\n",
    "all_df=pd.concat([train_clean,test_clean])"
   ]
  },
  {
   "cell_type": "code",
   "execution_count": 23,
   "metadata": {},
   "outputs": [
    {
     "name": "stdout",
     "output_type": "stream",
     "text": [
      "Converting Condition2 from object to category datatype\n",
      "Converting Electrical from object to category datatype\n",
      "Converting Exterior1st from object to category datatype\n",
      "Converting Exterior2nd from object to category datatype\n",
      "Converting GarageQual from object to category datatype\n",
      "Converting Heating from object to category datatype\n",
      "Converting HouseStyle from object to category datatype\n",
      "Converting RoofMatl from object to category datatype\n",
      "Converting Utilities from object to category datatype\n"
     ]
    }
   ],
   "source": [
    "for col in ['Condition2', 'Electrical', 'Exterior1st', 'Exterior2nd', 'GarageQual','Heating', 'HouseStyle', 'RoofMatl', 'Utilities']:\n",
    "    print(f'Converting {col} from object to category datatype')\n",
    "    all_df[col]=all_df[col].astype('category')"
   ]
  },
  {
   "cell_type": "code",
   "execution_count": 24,
   "metadata": {},
   "outputs": [],
   "source": [
    "categories = all_df.select_dtypes('category')"
   ]
  },
  {
   "cell_type": "code",
   "execution_count": 122,
   "metadata": {},
   "outputs": [
    {
     "name": "stdout",
     "output_type": "stream",
     "text": [
      "\n",
      "BldgType has 5 categories\n",
      "\n",
      "BsmtCond has 5 categories\n",
      "\n",
      "BsmtExposure has 5 categories\n",
      "\n",
      "BsmtFinType1 has 7 categories\n",
      "\n",
      "BsmtFinType2 has 7 categories\n",
      "\n",
      "BsmtQual has 5 categories\n",
      "\n",
      "CentralAir has 2 categories\n",
      "\n",
      "Condition1 has 9 categories\n",
      "\n",
      "Condition2 has 8 categories\n",
      "\n",
      "Electrical has 5 categories\n",
      "\n",
      "ExterCond has 5 categories\n",
      "\n",
      "ExterQual has 4 categories\n",
      "\n",
      "Exterior1st has 15 categories\n",
      "\n",
      "Exterior2nd has 16 categories\n",
      "\n",
      "Foundation has 6 categories\n",
      "\n",
      "Functional has 7 categories\n",
      "\n",
      "GarageCond has 6 categories\n",
      "\n",
      "GarageFinish has 4 categories\n",
      "\n",
      "GarageQual has 6 categories\n",
      "\n",
      "GarageType has 7 categories\n",
      "\n",
      "Heating has 6 categories\n",
      "\n",
      "HeatingQC has 5 categories\n",
      "\n",
      "HouseStyle has 8 categories\n",
      "\n",
      "KitchenQual has 4 categories\n",
      "\n",
      "LandContour has 4 categories\n",
      "\n",
      "LandSlope has 3 categories\n",
      "\n",
      "LotConfig has 5 categories\n",
      "\n",
      "LotShape has 4 categories\n",
      "\n",
      "MSZoning has 5 categories\n",
      "\n",
      "MasVnrType has 5 categories\n",
      "\n",
      "Neighborhood has 25 categories\n",
      "\n",
      "OverallCond has 9 categories\n",
      "\n",
      "OverallQual has 10 categories\n",
      "\n",
      "PavedDrive has 3 categories\n",
      "\n",
      "RoofMatl has 8 categories\n",
      "\n",
      "RoofStyle has 6 categories\n",
      "\n",
      "SaleCondition has 6 categories\n",
      "\n",
      "SaleType has 9 categories\n",
      "\n",
      "Street has 2 categories\n",
      "\n",
      "Utilities has 2 categories\n"
     ]
    }
   ],
   "source": [
    "for  cat in categories:\n",
    "    print(f'\\n{cat} has {all_df[cat].nunique()} categories')"
   ]
  },
  {
   "cell_type": "code",
   "execution_count": 25,
   "metadata": {},
   "outputs": [],
   "source": [
    "def one_hot_encoder(df, nan_as_category = True):\n",
    "    original_columns = list(df.columns)\n",
    "    categorical_columns = [col for col in df.columns if df[col].dtype.name == 'category']\n",
    "    df = pd.get_dummies(df, columns= categorical_columns, dummy_na= nan_as_category)\n",
    "    new_columns = [c for c in df.columns if c not in original_columns]\n",
    "    return df, new_columns"
   ]
  },
  {
   "cell_type": "code",
   "execution_count": 26,
   "metadata": {},
   "outputs": [],
   "source": [
    "all_df,oh_new_cols=one_hot_encoder(all_df)"
   ]
  },
  {
   "cell_type": "code",
   "execution_count": 125,
   "metadata": {},
   "outputs": [
    {
     "name": "stdout",
     "output_type": "stream",
     "text": [
      "<class 'pandas.core.frame.DataFrame'>\n",
      "Int64Index: 2919 entries, 0 to 1458\n",
      "Columns: 339 entries, 1stFlrSF to Utilities_nan\n",
      "dtypes: float16(8), float32(14), float64(2), int64(10), int8(1), object(1), uint8(303)\n",
      "memory usage: 1.4+ MB\n"
     ]
    }
   ],
   "source": [
    "all_df.info()"
   ]
  },
  {
   "cell_type": "code",
   "execution_count": 126,
   "metadata": {},
   "outputs": [],
   "source": [
    "# for col in categories:\n",
    "#     print(f'Dropping column {col}')\n",
    "#     all_df=all_df.drop([col],axis=1)"
   ]
  },
  {
   "cell_type": "code",
   "execution_count": 27,
   "metadata": {},
   "outputs": [
    {
     "data": {
      "text/html": [
       "<div>\n",
       "<style scoped>\n",
       "    .dataframe tbody tr th:only-of-type {\n",
       "        vertical-align: middle;\n",
       "    }\n",
       "\n",
       "    .dataframe tbody tr th {\n",
       "        vertical-align: top;\n",
       "    }\n",
       "\n",
       "    .dataframe thead th {\n",
       "        text-align: right;\n",
       "    }\n",
       "</style>\n",
       "<table border=\"1\" class=\"dataframe\">\n",
       "  <thead>\n",
       "    <tr style=\"text-align: right;\">\n",
       "      <th></th>\n",
       "      <th>1stFlrSF</th>\n",
       "      <th>2ndFlrSF</th>\n",
       "      <th>3SsnPorch</th>\n",
       "      <th>BedroomAbvGr</th>\n",
       "      <th>BsmtFinSF1</th>\n",
       "      <th>BsmtFinSF2</th>\n",
       "      <th>BsmtFullBath</th>\n",
       "      <th>BsmtHalfBath</th>\n",
       "      <th>BsmtUnfSF</th>\n",
       "      <th>EnclosedPorch</th>\n",
       "      <th>...</th>\n",
       "      <th>SaleType_New</th>\n",
       "      <th>SaleType_Oth</th>\n",
       "      <th>SaleType_WD</th>\n",
       "      <th>SaleType_nan</th>\n",
       "      <th>Street_Grvl</th>\n",
       "      <th>Street_Pave</th>\n",
       "      <th>Street_nan</th>\n",
       "      <th>Utilities_AllPub</th>\n",
       "      <th>Utilities_NoSeWa</th>\n",
       "      <th>Utilities_nan</th>\n",
       "    </tr>\n",
       "  </thead>\n",
       "  <tbody>\n",
       "    <tr>\n",
       "      <th>0</th>\n",
       "      <td>856</td>\n",
       "      <td>854</td>\n",
       "      <td>0.0</td>\n",
       "      <td>3</td>\n",
       "      <td>706.0</td>\n",
       "      <td>0.0</td>\n",
       "      <td>1.0</td>\n",
       "      <td>0.0</td>\n",
       "      <td>150.0</td>\n",
       "      <td>0.0</td>\n",
       "      <td>...</td>\n",
       "      <td>0</td>\n",
       "      <td>0</td>\n",
       "      <td>1</td>\n",
       "      <td>0</td>\n",
       "      <td>0</td>\n",
       "      <td>1</td>\n",
       "      <td>0</td>\n",
       "      <td>1</td>\n",
       "      <td>0</td>\n",
       "      <td>0</td>\n",
       "    </tr>\n",
       "    <tr>\n",
       "      <th>1</th>\n",
       "      <td>1262</td>\n",
       "      <td>0</td>\n",
       "      <td>0.0</td>\n",
       "      <td>3</td>\n",
       "      <td>978.0</td>\n",
       "      <td>0.0</td>\n",
       "      <td>0.0</td>\n",
       "      <td>1.0</td>\n",
       "      <td>284.0</td>\n",
       "      <td>0.0</td>\n",
       "      <td>...</td>\n",
       "      <td>0</td>\n",
       "      <td>0</td>\n",
       "      <td>1</td>\n",
       "      <td>0</td>\n",
       "      <td>0</td>\n",
       "      <td>1</td>\n",
       "      <td>0</td>\n",
       "      <td>1</td>\n",
       "      <td>0</td>\n",
       "      <td>0</td>\n",
       "    </tr>\n",
       "    <tr>\n",
       "      <th>2</th>\n",
       "      <td>920</td>\n",
       "      <td>866</td>\n",
       "      <td>0.0</td>\n",
       "      <td>3</td>\n",
       "      <td>486.0</td>\n",
       "      <td>0.0</td>\n",
       "      <td>1.0</td>\n",
       "      <td>0.0</td>\n",
       "      <td>434.0</td>\n",
       "      <td>0.0</td>\n",
       "      <td>...</td>\n",
       "      <td>0</td>\n",
       "      <td>0</td>\n",
       "      <td>1</td>\n",
       "      <td>0</td>\n",
       "      <td>0</td>\n",
       "      <td>1</td>\n",
       "      <td>0</td>\n",
       "      <td>1</td>\n",
       "      <td>0</td>\n",
       "      <td>0</td>\n",
       "    </tr>\n",
       "    <tr>\n",
       "      <th>3</th>\n",
       "      <td>961</td>\n",
       "      <td>756</td>\n",
       "      <td>0.0</td>\n",
       "      <td>3</td>\n",
       "      <td>216.0</td>\n",
       "      <td>0.0</td>\n",
       "      <td>1.0</td>\n",
       "      <td>0.0</td>\n",
       "      <td>540.0</td>\n",
       "      <td>272.0</td>\n",
       "      <td>...</td>\n",
       "      <td>0</td>\n",
       "      <td>0</td>\n",
       "      <td>1</td>\n",
       "      <td>0</td>\n",
       "      <td>0</td>\n",
       "      <td>1</td>\n",
       "      <td>0</td>\n",
       "      <td>1</td>\n",
       "      <td>0</td>\n",
       "      <td>0</td>\n",
       "    </tr>\n",
       "    <tr>\n",
       "      <th>4</th>\n",
       "      <td>1145</td>\n",
       "      <td>1053</td>\n",
       "      <td>0.0</td>\n",
       "      <td>4</td>\n",
       "      <td>655.0</td>\n",
       "      <td>0.0</td>\n",
       "      <td>1.0</td>\n",
       "      <td>0.0</td>\n",
       "      <td>490.0</td>\n",
       "      <td>0.0</td>\n",
       "      <td>...</td>\n",
       "      <td>0</td>\n",
       "      <td>0</td>\n",
       "      <td>1</td>\n",
       "      <td>0</td>\n",
       "      <td>0</td>\n",
       "      <td>1</td>\n",
       "      <td>0</td>\n",
       "      <td>1</td>\n",
       "      <td>0</td>\n",
       "      <td>0</td>\n",
       "    </tr>\n",
       "  </tbody>\n",
       "</table>\n",
       "<p>5 rows × 339 columns</p>\n",
       "</div>"
      ],
      "text/plain": [
       "   1stFlrSF  2ndFlrSF  3SsnPorch  BedroomAbvGr  BsmtFinSF1  BsmtFinSF2  \\\n",
       "0       856       854        0.0             3       706.0         0.0   \n",
       "1      1262         0        0.0             3       978.0         0.0   \n",
       "2       920       866        0.0             3       486.0         0.0   \n",
       "3       961       756        0.0             3       216.0         0.0   \n",
       "4      1145      1053        0.0             4       655.0         0.0   \n",
       "\n",
       "   BsmtFullBath  BsmtHalfBath  BsmtUnfSF  EnclosedPorch      ...        \\\n",
       "0           1.0           0.0      150.0            0.0      ...         \n",
       "1           0.0           1.0      284.0            0.0      ...         \n",
       "2           1.0           0.0      434.0            0.0      ...         \n",
       "3           1.0           0.0      540.0          272.0      ...         \n",
       "4           1.0           0.0      490.0            0.0      ...         \n",
       "\n",
       "   SaleType_New  SaleType_Oth  SaleType_WD  SaleType_nan  Street_Grvl  \\\n",
       "0             0             0            1             0            0   \n",
       "1             0             0            1             0            0   \n",
       "2             0             0            1             0            0   \n",
       "3             0             0            1             0            0   \n",
       "4             0             0            1             0            0   \n",
       "\n",
       "   Street_Pave  Street_nan  Utilities_AllPub  Utilities_NoSeWa  Utilities_nan  \n",
       "0            1           0                 1                 0              0  \n",
       "1            1           0                 1                 0              0  \n",
       "2            1           0                 1                 0              0  \n",
       "3            1           0                 1                 0              0  \n",
       "4            1           0                 1                 0              0  \n",
       "\n",
       "[5 rows x 339 columns]"
      ]
     },
     "execution_count": 27,
     "metadata": {},
     "output_type": "execute_result"
    }
   ],
   "source": [
    "all_df.head()"
   ]
  },
  {
   "cell_type": "markdown",
   "metadata": {},
   "source": [
    "Thus all the columns have been encoded.Lets split the train and test back."
   ]
  },
  {
   "cell_type": "code",
   "execution_count": 28,
   "metadata": {},
   "outputs": [
    {
     "data": {
      "text/plain": [
       "(1460, 339)"
      ]
     },
     "execution_count": 28,
     "metadata": {},
     "output_type": "execute_result"
    }
   ],
   "source": [
    "train=all_df[:ntrain]\n",
    "train.shape"
   ]
  },
  {
   "cell_type": "code",
   "execution_count": 29,
   "metadata": {},
   "outputs": [
    {
     "data": {
      "text/plain": [
       "False"
      ]
     },
     "execution_count": 29,
     "metadata": {},
     "output_type": "execute_result"
    }
   ],
   "source": [
    "train.isnull().values.any()"
   ]
  },
  {
   "cell_type": "code",
   "execution_count": 30,
   "metadata": {},
   "outputs": [
    {
     "data": {
      "text/plain": [
       "(1459, 339)"
      ]
     },
     "execution_count": 30,
     "metadata": {},
     "output_type": "execute_result"
    }
   ],
   "source": [
    "test=all_df[ntrain:]\n",
    "test.shape"
   ]
  },
  {
   "cell_type": "code",
   "execution_count": 31,
   "metadata": {},
   "outputs": [],
   "source": [
    "test=test.drop(['SalePrice'],axis=1)"
   ]
  },
  {
   "cell_type": "code",
   "execution_count": 32,
   "metadata": {},
   "outputs": [
    {
     "data": {
      "text/plain": [
       "False"
      ]
     },
     "execution_count": 32,
     "metadata": {},
     "output_type": "execute_result"
    }
   ],
   "source": [
    "test.isnull().values.any()"
   ]
  },
  {
   "cell_type": "code",
   "execution_count": 33,
   "metadata": {},
   "outputs": [
    {
     "data": {
      "text/html": [
       "<div>\n",
       "<style scoped>\n",
       "    .dataframe tbody tr th:only-of-type {\n",
       "        vertical-align: middle;\n",
       "    }\n",
       "\n",
       "    .dataframe tbody tr th {\n",
       "        vertical-align: top;\n",
       "    }\n",
       "\n",
       "    .dataframe thead th {\n",
       "        text-align: right;\n",
       "    }\n",
       "</style>\n",
       "<table border=\"1\" class=\"dataframe\">\n",
       "  <thead>\n",
       "    <tr style=\"text-align: right;\">\n",
       "      <th></th>\n",
       "      <th>1stFlrSF</th>\n",
       "      <th>2ndFlrSF</th>\n",
       "      <th>3SsnPorch</th>\n",
       "      <th>BedroomAbvGr</th>\n",
       "      <th>BsmtFinSF1</th>\n",
       "      <th>BsmtFinSF2</th>\n",
       "      <th>BsmtFullBath</th>\n",
       "      <th>BsmtHalfBath</th>\n",
       "      <th>BsmtUnfSF</th>\n",
       "      <th>EnclosedPorch</th>\n",
       "      <th>...</th>\n",
       "      <th>SaleType_New</th>\n",
       "      <th>SaleType_Oth</th>\n",
       "      <th>SaleType_WD</th>\n",
       "      <th>SaleType_nan</th>\n",
       "      <th>Street_Grvl</th>\n",
       "      <th>Street_Pave</th>\n",
       "      <th>Street_nan</th>\n",
       "      <th>Utilities_AllPub</th>\n",
       "      <th>Utilities_NoSeWa</th>\n",
       "      <th>Utilities_nan</th>\n",
       "    </tr>\n",
       "  </thead>\n",
       "  <tbody>\n",
       "    <tr>\n",
       "      <th>0</th>\n",
       "      <td>896</td>\n",
       "      <td>0</td>\n",
       "      <td>0.0</td>\n",
       "      <td>2</td>\n",
       "      <td>468.0</td>\n",
       "      <td>144.0</td>\n",
       "      <td>0.0</td>\n",
       "      <td>0.0</td>\n",
       "      <td>270.0</td>\n",
       "      <td>0.0</td>\n",
       "      <td>...</td>\n",
       "      <td>0</td>\n",
       "      <td>0</td>\n",
       "      <td>1</td>\n",
       "      <td>0</td>\n",
       "      <td>0</td>\n",
       "      <td>1</td>\n",
       "      <td>0</td>\n",
       "      <td>1</td>\n",
       "      <td>0</td>\n",
       "      <td>0</td>\n",
       "    </tr>\n",
       "    <tr>\n",
       "      <th>1</th>\n",
       "      <td>1329</td>\n",
       "      <td>0</td>\n",
       "      <td>0.0</td>\n",
       "      <td>3</td>\n",
       "      <td>923.0</td>\n",
       "      <td>0.0</td>\n",
       "      <td>0.0</td>\n",
       "      <td>0.0</td>\n",
       "      <td>406.0</td>\n",
       "      <td>0.0</td>\n",
       "      <td>...</td>\n",
       "      <td>0</td>\n",
       "      <td>0</td>\n",
       "      <td>1</td>\n",
       "      <td>0</td>\n",
       "      <td>0</td>\n",
       "      <td>1</td>\n",
       "      <td>0</td>\n",
       "      <td>1</td>\n",
       "      <td>0</td>\n",
       "      <td>0</td>\n",
       "    </tr>\n",
       "    <tr>\n",
       "      <th>2</th>\n",
       "      <td>928</td>\n",
       "      <td>701</td>\n",
       "      <td>0.0</td>\n",
       "      <td>3</td>\n",
       "      <td>791.0</td>\n",
       "      <td>0.0</td>\n",
       "      <td>0.0</td>\n",
       "      <td>0.0</td>\n",
       "      <td>137.0</td>\n",
       "      <td>0.0</td>\n",
       "      <td>...</td>\n",
       "      <td>0</td>\n",
       "      <td>0</td>\n",
       "      <td>1</td>\n",
       "      <td>0</td>\n",
       "      <td>0</td>\n",
       "      <td>1</td>\n",
       "      <td>0</td>\n",
       "      <td>1</td>\n",
       "      <td>0</td>\n",
       "      <td>0</td>\n",
       "    </tr>\n",
       "    <tr>\n",
       "      <th>3</th>\n",
       "      <td>926</td>\n",
       "      <td>678</td>\n",
       "      <td>0.0</td>\n",
       "      <td>3</td>\n",
       "      <td>602.0</td>\n",
       "      <td>0.0</td>\n",
       "      <td>0.0</td>\n",
       "      <td>0.0</td>\n",
       "      <td>324.0</td>\n",
       "      <td>0.0</td>\n",
       "      <td>...</td>\n",
       "      <td>0</td>\n",
       "      <td>0</td>\n",
       "      <td>1</td>\n",
       "      <td>0</td>\n",
       "      <td>0</td>\n",
       "      <td>1</td>\n",
       "      <td>0</td>\n",
       "      <td>1</td>\n",
       "      <td>0</td>\n",
       "      <td>0</td>\n",
       "    </tr>\n",
       "    <tr>\n",
       "      <th>4</th>\n",
       "      <td>1280</td>\n",
       "      <td>0</td>\n",
       "      <td>0.0</td>\n",
       "      <td>2</td>\n",
       "      <td>263.0</td>\n",
       "      <td>0.0</td>\n",
       "      <td>0.0</td>\n",
       "      <td>0.0</td>\n",
       "      <td>1017.0</td>\n",
       "      <td>0.0</td>\n",
       "      <td>...</td>\n",
       "      <td>0</td>\n",
       "      <td>0</td>\n",
       "      <td>1</td>\n",
       "      <td>0</td>\n",
       "      <td>0</td>\n",
       "      <td>1</td>\n",
       "      <td>0</td>\n",
       "      <td>1</td>\n",
       "      <td>0</td>\n",
       "      <td>0</td>\n",
       "    </tr>\n",
       "  </tbody>\n",
       "</table>\n",
       "<p>5 rows × 338 columns</p>\n",
       "</div>"
      ],
      "text/plain": [
       "   1stFlrSF  2ndFlrSF  3SsnPorch  BedroomAbvGr  BsmtFinSF1  BsmtFinSF2  \\\n",
       "0       896         0        0.0             2       468.0       144.0   \n",
       "1      1329         0        0.0             3       923.0         0.0   \n",
       "2       928       701        0.0             3       791.0         0.0   \n",
       "3       926       678        0.0             3       602.0         0.0   \n",
       "4      1280         0        0.0             2       263.0         0.0   \n",
       "\n",
       "   BsmtFullBath  BsmtHalfBath  BsmtUnfSF  EnclosedPorch      ...        \\\n",
       "0           0.0           0.0      270.0            0.0      ...         \n",
       "1           0.0           0.0      406.0            0.0      ...         \n",
       "2           0.0           0.0      137.0            0.0      ...         \n",
       "3           0.0           0.0      324.0            0.0      ...         \n",
       "4           0.0           0.0     1017.0            0.0      ...         \n",
       "\n",
       "   SaleType_New  SaleType_Oth  SaleType_WD  SaleType_nan  Street_Grvl  \\\n",
       "0             0             0            1             0            0   \n",
       "1             0             0            1             0            0   \n",
       "2             0             0            1             0            0   \n",
       "3             0             0            1             0            0   \n",
       "4             0             0            1             0            0   \n",
       "\n",
       "   Street_Pave  Street_nan  Utilities_AllPub  Utilities_NoSeWa  Utilities_nan  \n",
       "0            1           0                 1                 0              0  \n",
       "1            1           0                 1                 0              0  \n",
       "2            1           0                 1                 0              0  \n",
       "3            1           0                 1                 0              0  \n",
       "4            1           0                 1                 0              0  \n",
       "\n",
       "[5 rows x 338 columns]"
      ]
     },
     "execution_count": 33,
     "metadata": {},
     "output_type": "execute_result"
    }
   ],
   "source": [
    "test.head()"
   ]
  },
  {
   "cell_type": "markdown",
   "metadata": {},
   "source": [
    "### Basic Modelling "
   ]
  },
  {
   "cell_type": "markdown",
   "metadata": {},
   "source": [
    "The metric used for modelling is RMSE score .Lets create a function to calculate the score."
   ]
  },
  {
   "cell_type": "code",
   "execution_count": 34,
   "metadata": {},
   "outputs": [],
   "source": [
    "def rmsle(x,y): return math.sqrt(((np.log1p(x)-np.log1p(y))**2).mean())"
   ]
  },
  {
   "cell_type": "markdown",
   "metadata": {},
   "source": [
    "We notice that the train data has features of houses built between 1872 to 2010 whereas the test data has houses built between 1879 till 2010. Therefore an effective train-valid-test split would be to split based on this time based feature since it is a common fact that the house prices tend to depreciate as the house gets older and older.We take  1000 rows as train data and 460 rows as validation set."
   ]
  },
  {
   "cell_type": "code",
   "execution_count": 35,
   "metadata": {},
   "outputs": [],
   "source": [
    "train.sort_values('YearBuilt',inplace=True)"
   ]
  },
  {
   "cell_type": "code",
   "execution_count": 36,
   "metadata": {},
   "outputs": [],
   "source": [
    "X=train.drop(['SalePrice'],axis=1)\n",
    "y=train['SalePrice']"
   ]
  },
  {
   "cell_type": "code",
   "execution_count": 137,
   "metadata": {},
   "outputs": [],
   "source": [
    "from sklearn.model_selection import KFold, StratifiedKFold"
   ]
  },
  {
   "cell_type": "code",
   "execution_count": 50,
   "metadata": {},
   "outputs": [],
   "source": [
    "num_folds=5"
   ]
  },
  {
   "cell_type": "code",
   "execution_count": 51,
   "metadata": {},
   "outputs": [],
   "source": [
    "folds = KFold(n_splits= num_folds, shuffle=True, random_state=1054)"
   ]
  },
  {
   "cell_type": "markdown",
   "metadata": {},
   "source": [
    "We build a random forest model with the dataset and check the baseline accuracy."
   ]
  },
  {
   "cell_type": "code",
   "execution_count": null,
   "metadata": {},
   "outputs": [],
   "source": [
    "###https://www.kaggle.com/sudalairajkumar/simple-exploration-notebook-zillow-prize\n",
    "###https://www.kaggle.com/humananalog/xgboost-lasso\n",
    "###https://www.kaggle.com/serigne/stacked-regressions-top-4-on-leaderboard"
   ]
  },
  {
   "cell_type": "code",
   "execution_count": 52,
   "metadata": {},
   "outputs": [],
   "source": [
    "oof_preds = np.zeros(train.shape[0])\n",
    "feature_importance_df = pd.DataFrame()\n",
    "sub_preds = np.zeros(test.shape[0])"
   ]
  },
  {
   "cell_type": "code",
   "execution_count": 53,
   "metadata": {},
   "outputs": [],
   "source": [
    "feat=[f for f in X.columns if f in test.columns]"
   ]
  },
  {
   "cell_type": "code",
   "execution_count": 56,
   "metadata": {},
   "outputs": [
    {
     "name": "stdout",
     "output_type": "stream",
     "text": [
      "Fold  1 RMSE : 0.786200\n",
      "Fold  2 RMSE : 0.435394\n",
      "Fold  3 RMSE : 0.478439\n",
      "Fold  4 RMSE : 0.385835\n",
      "Fold  5 RMSE : 0.594068\n"
     ]
    }
   ],
   "source": [
    "##https://www.kaggle.com/tunguz/xgb-simple-features\n",
    "for n_fold, (train_idx, valid_idx) in enumerate(folds.split(X,y)):\n",
    "        \n",
    "            train_x, train_y = X[feat].iloc[train_idx], y.iloc[train_idx]\n",
    "            valid_x, valid_y = X[feat].iloc[valid_idx], y.iloc[valid_idx]\n",
    "            rfm = RandomForestRegressor(n_estimators=100, min_samples_leaf=3, max_features=0.5, n_jobs=-1, oob_score=True,random_state=100)\n",
    "            rfm.fit(train_x, train_y)\n",
    "            \n",
    "\n",
    "            oof_preds[valid_idx] = rfm.predict(valid_x)[:1]\n",
    "            sub_preds += rfm.predict(test[feat]) / folds.n_splits # - Uncomment for K-fold \n",
    "\n",
    "            fold_importance_df = pd.DataFrame()\n",
    "            fold_importance_df[\"cols\"] = X.columns\n",
    "            fold_importance_df[\"importance\"] = rfm.feature_importances_\n",
    "            fold_importance_df[\"fold\"] = n_fold + 1\n",
    "            feature_importance_df = pd.concat([feature_importance_df, fold_importance_df], axis=0)\n",
    "            print('Fold %2d RMSE : %.6f' % (n_fold + 1, rmsle(valid_y, oof_preds[valid_idx])))\n",
    "            del rfm, train_x, train_y, valid_x, valid_y\n",
    "            gc.collect()"
   ]
  },
  {
   "cell_type": "code",
   "execution_count": 78,
   "metadata": {},
   "outputs": [],
   "source": [
    "pred_df = pd.DataFrame(sub_preds, index=test[\"Id\"], columns=[\"SalePrice\"])\n",
    "#pred_df.to_csv('output.csv', header=True, index_label='Id')"
   ]
  },
  {
   "cell_type": "markdown",
   "metadata": {},
   "source": [
    "The model scored 0.15915 on LB . Lets try to improve our model."
   ]
  },
  {
   "cell_type": "markdown",
   "metadata": {},
   "source": [
    "### Improving our model"
   ]
  },
  {
   "cell_type": "markdown",
   "metadata": {},
   "source": [
    "One reason we are getting a high RMSLE error is due to presence of all the features .Lets build a RF model and check the permutation importance to know which features are useful in predicting the sale price."
   ]
  },
  {
   "cell_type": "code",
   "execution_count": 38,
   "metadata": {},
   "outputs": [],
   "source": [
    "from sklearn.model_selection import train_test_split\n",
    "import eli5\n",
    "from eli5.sklearn import PermutationImportance\n",
    "import lightgbm as lgb"
   ]
  },
  {
   "cell_type": "code",
   "execution_count": 39,
   "metadata": {},
   "outputs": [],
   "source": [
    "## From fast.ai library,\n",
    "def rf_feat_importance(m, df):\n",
    "    return pd.DataFrame({'cols':df.columns, 'imp':m.feature_importances_}\n",
    "                       ).sort_values('imp', ascending=False)"
   ]
  },
  {
   "cell_type": "code",
   "execution_count": 40,
   "metadata": {},
   "outputs": [],
   "source": [
    "train_x,valid_x,train_y,valid_y=train_test_split(X,y,test_size=0.2,random_state=100)"
   ]
  },
  {
   "cell_type": "code",
   "execution_count": 41,
   "metadata": {},
   "outputs": [
    {
     "name": "stdout",
     "output_type": "stream",
     "text": [
      "Shape of train_x is (1168, 338) Shape of train_y is (1168,) Shape of valid_x is (292, 338) Shape of valid_y is (292,)\n"
     ]
    }
   ],
   "source": [
    "print(f'Shape of train_x is {train_x.shape} Shape of train_y is {train_y.shape} Shape of valid_x is {valid_x.shape} Shape of valid_y is {valid_y.shape}')"
   ]
  },
  {
   "cell_type": "code",
   "execution_count": 42,
   "metadata": {},
   "outputs": [],
   "source": [
    " rfm = RandomForestRegressor(n_estimators=100, min_samples_leaf=3, max_features=0.5, n_jobs=-1, oob_score=True,random_state=100)"
   ]
  },
  {
   "cell_type": "code",
   "execution_count": 44,
   "metadata": {},
   "outputs": [
    {
     "data": {
      "text/plain": [
       "RandomForestRegressor(bootstrap=True, criterion='mse', max_depth=None,\n",
       "           max_features=0.5, max_leaf_nodes=None,\n",
       "           min_impurity_decrease=0.0, min_impurity_split=None,\n",
       "           min_samples_leaf=3, min_samples_split=2,\n",
       "           min_weight_fraction_leaf=0.0, n_estimators=100, n_jobs=-1,\n",
       "           oob_score=True, random_state=100, verbose=0, warm_start=False)"
      ]
     },
     "execution_count": 44,
     "metadata": {},
     "output_type": "execute_result"
    }
   ],
   "source": [
    "rfm.fit(train_x,train_y)"
   ]
  },
  {
   "cell_type": "code",
   "execution_count": 45,
   "metadata": {},
   "outputs": [
    {
     "name": "stdout",
     "output_type": "stream",
     "text": [
      "RMSLE of the model 0.1524151730739201\n"
     ]
    }
   ],
   "source": [
    "print(f\"RMSLE of the model {rmsle(valid_y,rfm.predict(valid_x))}\")"
   ]
  },
  {
   "cell_type": "code",
   "execution_count": 73,
   "metadata": {},
   "outputs": [
    {
     "data": {
      "text/html": [
       "\n",
       "    <style>\n",
       "    table.eli5-weights tr:hover {\n",
       "        filter: brightness(85%);\n",
       "    }\n",
       "</style>\n",
       "\n",
       "\n",
       "\n",
       "    \n",
       "\n",
       "    \n",
       "\n",
       "    \n",
       "\n",
       "    \n",
       "\n",
       "    \n",
       "\n",
       "    \n",
       "\n",
       "\n",
       "    \n",
       "\n",
       "    \n",
       "\n",
       "    \n",
       "\n",
       "    \n",
       "\n",
       "    \n",
       "\n",
       "    \n",
       "\n",
       "\n",
       "    \n",
       "\n",
       "    \n",
       "\n",
       "    \n",
       "\n",
       "    \n",
       "\n",
       "    \n",
       "        <table class=\"eli5-weights eli5-feature-importances\" style=\"border-collapse: collapse; border: none; margin-top: 0em; table-layout: auto;\">\n",
       "    <thead>\n",
       "    <tr style=\"border: none;\">\n",
       "        <th style=\"padding: 0 1em 0 0.5em; text-align: right; border: none;\">Weight</th>\n",
       "        <th style=\"padding: 0 0.5em 0 0.5em; text-align: left; border: none;\">Feature</th>\n",
       "    </tr>\n",
       "    </thead>\n",
       "    <tbody>\n",
       "    \n",
       "        <tr style=\"background-color: hsl(120, 100.00%, 80.00%); border: none;\">\n",
       "            <td style=\"padding: 0 1em 0 0.5em; text-align: right; border: none;\">\n",
       "                0.1951\n",
       "                \n",
       "                    &plusmn; 0.0357\n",
       "                \n",
       "            </td>\n",
       "            <td style=\"padding: 0 0.5em 0 0.5em; text-align: left; border: none;\">\n",
       "                GrLivArea\n",
       "            </td>\n",
       "        </tr>\n",
       "    \n",
       "        <tr style=\"background-color: hsl(120, 100.00%, 88.89%); border: none;\">\n",
       "            <td style=\"padding: 0 1em 0 0.5em; text-align: right; border: none;\">\n",
       "                0.0842\n",
       "                \n",
       "                    &plusmn; 0.0188\n",
       "                \n",
       "            </td>\n",
       "            <td style=\"padding: 0 0.5em 0 0.5em; text-align: left; border: none;\">\n",
       "                YearBuilt\n",
       "            </td>\n",
       "        </tr>\n",
       "    \n",
       "        <tr style=\"background-color: hsl(120, 100.00%, 95.70%); border: none;\">\n",
       "            <td style=\"padding: 0 1em 0 0.5em; text-align: right; border: none;\">\n",
       "                0.0217\n",
       "                \n",
       "                    &plusmn; 0.0058\n",
       "                \n",
       "            </td>\n",
       "            <td style=\"padding: 0 0.5em 0 0.5em; text-align: left; border: none;\">\n",
       "                TotalBsmtSF\n",
       "            </td>\n",
       "        </tr>\n",
       "    \n",
       "        <tr style=\"background-color: hsl(120, 100.00%, 95.92%); border: none;\">\n",
       "            <td style=\"padding: 0 1em 0 0.5em; text-align: right; border: none;\">\n",
       "                0.0201\n",
       "                \n",
       "                    &plusmn; 0.0063\n",
       "                \n",
       "            </td>\n",
       "            <td style=\"padding: 0 0.5em 0 0.5em; text-align: left; border: none;\">\n",
       "                1stFlrSF\n",
       "            </td>\n",
       "        </tr>\n",
       "    \n",
       "        <tr style=\"background-color: hsl(120, 100.00%, 96.57%); border: none;\">\n",
       "            <td style=\"padding: 0 1em 0 0.5em; text-align: right; border: none;\">\n",
       "                0.0157\n",
       "                \n",
       "                    &plusmn; 0.0109\n",
       "                \n",
       "            </td>\n",
       "            <td style=\"padding: 0 0.5em 0 0.5em; text-align: left; border: none;\">\n",
       "                Fireplaces\n",
       "            </td>\n",
       "        </tr>\n",
       "    \n",
       "        <tr style=\"background-color: hsl(120, 100.00%, 96.98%); border: none;\">\n",
       "            <td style=\"padding: 0 1em 0 0.5em; text-align: right; border: none;\">\n",
       "                0.0131\n",
       "                \n",
       "                    &plusmn; 0.0037\n",
       "                \n",
       "            </td>\n",
       "            <td style=\"padding: 0 0.5em 0 0.5em; text-align: left; border: none;\">\n",
       "                GarageCars\n",
       "            </td>\n",
       "        </tr>\n",
       "    \n",
       "        <tr style=\"background-color: hsl(120, 100.00%, 97.12%); border: none;\">\n",
       "            <td style=\"padding: 0 1em 0 0.5em; text-align: right; border: none;\">\n",
       "                0.0123\n",
       "                \n",
       "                    &plusmn; 0.0095\n",
       "                \n",
       "            </td>\n",
       "            <td style=\"padding: 0 0.5em 0 0.5em; text-align: left; border: none;\">\n",
       "                ExterQual_TA\n",
       "            </td>\n",
       "        </tr>\n",
       "    \n",
       "        <tr style=\"background-color: hsl(120, 100.00%, 97.24%); border: none;\">\n",
       "            <td style=\"padding: 0 1em 0 0.5em; text-align: right; border: none;\">\n",
       "                0.0115\n",
       "                \n",
       "                    &plusmn; 0.0033\n",
       "                \n",
       "            </td>\n",
       "            <td style=\"padding: 0 0.5em 0 0.5em; text-align: left; border: none;\">\n",
       "                LotArea\n",
       "            </td>\n",
       "        </tr>\n",
       "    \n",
       "        <tr style=\"background-color: hsl(120, 100.00%, 97.67%); border: none;\">\n",
       "            <td style=\"padding: 0 1em 0 0.5em; text-align: right; border: none;\">\n",
       "                0.0091\n",
       "                \n",
       "                    &plusmn; 0.0049\n",
       "                \n",
       "            </td>\n",
       "            <td style=\"padding: 0 0.5em 0 0.5em; text-align: left; border: none;\">\n",
       "                2ndFlrSF\n",
       "            </td>\n",
       "        </tr>\n",
       "    \n",
       "        <tr style=\"background-color: hsl(120, 100.00%, 97.78%); border: none;\">\n",
       "            <td style=\"padding: 0 1em 0 0.5em; text-align: right; border: none;\">\n",
       "                0.0084\n",
       "                \n",
       "                    &plusmn; 0.0016\n",
       "                \n",
       "            </td>\n",
       "            <td style=\"padding: 0 0.5em 0 0.5em; text-align: left; border: none;\">\n",
       "                YearRemodAdd\n",
       "            </td>\n",
       "        </tr>\n",
       "    \n",
       "        <tr style=\"background-color: hsl(120, 100.00%, 98.13%); border: none;\">\n",
       "            <td style=\"padding: 0 1em 0 0.5em; text-align: right; border: none;\">\n",
       "                0.0066\n",
       "                \n",
       "                    &plusmn; 0.0028\n",
       "                \n",
       "            </td>\n",
       "            <td style=\"padding: 0 0.5em 0 0.5em; text-align: left; border: none;\">\n",
       "                BsmtFinSF1\n",
       "            </td>\n",
       "        </tr>\n",
       "    \n",
       "        <tr style=\"background-color: hsl(120, 100.00%, 98.34%); border: none;\">\n",
       "            <td style=\"padding: 0 1em 0 0.5em; text-align: right; border: none;\">\n",
       "                0.0056\n",
       "                \n",
       "                    &plusmn; 0.0054\n",
       "                \n",
       "            </td>\n",
       "            <td style=\"padding: 0 0.5em 0 0.5em; text-align: left; border: none;\">\n",
       "                GarageArea\n",
       "            </td>\n",
       "        </tr>\n",
       "    \n",
       "        <tr style=\"background-color: hsl(120, 100.00%, 98.56%); border: none;\">\n",
       "            <td style=\"padding: 0 1em 0 0.5em; text-align: right; border: none;\">\n",
       "                0.0045\n",
       "                \n",
       "                    &plusmn; 0.0039\n",
       "                \n",
       "            </td>\n",
       "            <td style=\"padding: 0 0.5em 0 0.5em; text-align: left; border: none;\">\n",
       "                GarageYrBlt\n",
       "            </td>\n",
       "        </tr>\n",
       "    \n",
       "        <tr style=\"background-color: hsl(120, 100.00%, 98.86%); border: none;\">\n",
       "            <td style=\"padding: 0 1em 0 0.5em; text-align: right; border: none;\">\n",
       "                0.0033\n",
       "                \n",
       "                    &plusmn; 0.0021\n",
       "                \n",
       "            </td>\n",
       "            <td style=\"padding: 0 0.5em 0 0.5em; text-align: left; border: none;\">\n",
       "                CentralAir_Y\n",
       "            </td>\n",
       "        </tr>\n",
       "    \n",
       "        <tr style=\"background-color: hsl(120, 100.00%, 98.93%); border: none;\">\n",
       "            <td style=\"padding: 0 1em 0 0.5em; text-align: right; border: none;\">\n",
       "                0.0030\n",
       "                \n",
       "                    &plusmn; 0.0003\n",
       "                \n",
       "            </td>\n",
       "            <td style=\"padding: 0 0.5em 0 0.5em; text-align: left; border: none;\">\n",
       "                CentralAir_N\n",
       "            </td>\n",
       "        </tr>\n",
       "    \n",
       "        <tr style=\"background-color: hsl(120, 100.00%, 99.01%); border: none;\">\n",
       "            <td style=\"padding: 0 1em 0 0.5em; text-align: right; border: none;\">\n",
       "                0.0026\n",
       "                \n",
       "                    &plusmn; 0.0009\n",
       "                \n",
       "            </td>\n",
       "            <td style=\"padding: 0 0.5em 0 0.5em; text-align: left; border: none;\">\n",
       "                HalfBath\n",
       "            </td>\n",
       "        </tr>\n",
       "    \n",
       "        <tr style=\"background-color: hsl(120, 100.00%, 99.08%); border: none;\">\n",
       "            <td style=\"padding: 0 1em 0 0.5em; text-align: right; border: none;\">\n",
       "                0.0024\n",
       "                \n",
       "                    &plusmn; 0.0017\n",
       "                \n",
       "            </td>\n",
       "            <td style=\"padding: 0 0.5em 0 0.5em; text-align: left; border: none;\">\n",
       "                FullBath\n",
       "            </td>\n",
       "        </tr>\n",
       "    \n",
       "        <tr style=\"background-color: hsl(120, 100.00%, 99.22%); border: none;\">\n",
       "            <td style=\"padding: 0 1em 0 0.5em; text-align: right; border: none;\">\n",
       "                0.0019\n",
       "                \n",
       "                    &plusmn; 0.0003\n",
       "                \n",
       "            </td>\n",
       "            <td style=\"padding: 0 0.5em 0 0.5em; text-align: left; border: none;\">\n",
       "                Neighborhood_Crawfor\n",
       "            </td>\n",
       "        </tr>\n",
       "    \n",
       "        <tr style=\"background-color: hsl(120, 100.00%, 99.24%); border: none;\">\n",
       "            <td style=\"padding: 0 1em 0 0.5em; text-align: right; border: none;\">\n",
       "                0.0018\n",
       "                \n",
       "                    &plusmn; 0.0009\n",
       "                \n",
       "            </td>\n",
       "            <td style=\"padding: 0 0.5em 0 0.5em; text-align: left; border: none;\">\n",
       "                OverallQual_4\n",
       "            </td>\n",
       "        </tr>\n",
       "    \n",
       "        <tr style=\"background-color: hsl(120, 100.00%, 99.29%); border: none;\">\n",
       "            <td style=\"padding: 0 1em 0 0.5em; text-align: right; border: none;\">\n",
       "                0.0017\n",
       "                \n",
       "                    &plusmn; 0.0006\n",
       "                \n",
       "            </td>\n",
       "            <td style=\"padding: 0 0.5em 0 0.5em; text-align: left; border: none;\">\n",
       "                MasVnrArea\n",
       "            </td>\n",
       "        </tr>\n",
       "    \n",
       "    \n",
       "        \n",
       "            <tr style=\"background-color: hsl(120, 100.00%, 99.29%); border: none;\">\n",
       "                <td colspan=\"2\" style=\"padding: 0 0.5em 0 0.5em; text-align: center; border: none; white-space: nowrap;\">\n",
       "                    <i>&hellip; 318 more &hellip;</i>\n",
       "                </td>\n",
       "            </tr>\n",
       "        \n",
       "    \n",
       "    </tbody>\n",
       "</table>\n",
       "    \n",
       "\n",
       "    \n",
       "\n",
       "\n",
       "    \n",
       "\n",
       "    \n",
       "\n",
       "    \n",
       "\n",
       "    \n",
       "\n",
       "    \n",
       "\n",
       "    \n",
       "\n",
       "\n",
       "\n"
      ],
      "text/plain": [
       "<IPython.core.display.HTML object>"
      ]
     },
     "execution_count": 73,
     "metadata": {},
     "output_type": "execute_result"
    }
   ],
   "source": [
    "perm = PermutationImportance(rfm, random_state=100).fit(valid_x,valid_y)\n",
    "eli5.show_weights(perm, feature_names = valid_x.columns.tolist())"
   ]
  },
  {
   "cell_type": "markdown",
   "metadata": {},
   "source": [
    "From the permutation importance we see that GrLivArea (Above grade (ground) living area square feet) seems to be most important in predicting the sale price followed by year built and TotalBsmtSF . It is interesting to note that Fireplaces is also noted as important feature.The external material quality of average/typical is also rated as important factor.Lets take the weights till 0.0115 and build our model .Lets check if there is any improvement in our predictions."
   ]
  },
  {
   "cell_type": "code",
   "execution_count": 50,
   "metadata": {},
   "outputs": [],
   "source": [
    "to_keep=['GrLivArea','YearBuilt','TotalBsmtSF','1stFlrSF','Fireplaces','GarageCars','ExterQual_TA','LotArea']"
   ]
  },
  {
   "cell_type": "code",
   "execution_count": 51,
   "metadata": {},
   "outputs": [],
   "source": [
    "X_keep=X[to_keep].copy()"
   ]
  },
  {
   "cell_type": "code",
   "execution_count": 52,
   "metadata": {},
   "outputs": [],
   "source": [
    "train_x,valid_x,train_y,valid_y=train_test_split(X_keep,y,test_size=0.2)"
   ]
  },
  {
   "cell_type": "code",
   "execution_count": 53,
   "metadata": {},
   "outputs": [
    {
     "name": "stdout",
     "output_type": "stream",
     "text": [
      "Shape of train_x is (1168, 8) Shape of train_y is (1168,) Shape of valid_x is (292, 8) Shape of valid_y is (292,)\n"
     ]
    }
   ],
   "source": [
    "print(f'Shape of train_x is {train_x.shape} Shape of train_y is {train_y.shape} Shape of valid_x is {valid_x.shape} Shape of valid_y is {valid_y.shape}')"
   ]
  },
  {
   "cell_type": "markdown",
   "metadata": {},
   "source": [
    "Lets try random forest model without cv again."
   ]
  },
  {
   "cell_type": "code",
   "execution_count": 99,
   "metadata": {},
   "outputs": [],
   "source": [
    "rfm = RandomForestRegressor(n_estimators=100, min_samples_leaf=5, max_features=0.5, n_jobs=-1, oob_score=True,random_state=100)"
   ]
  },
  {
   "cell_type": "code",
   "execution_count": 100,
   "metadata": {},
   "outputs": [
    {
     "data": {
      "text/plain": [
       "RandomForestRegressor(bootstrap=True, criterion='mse', max_depth=None,\n",
       "           max_features=0.5, max_leaf_nodes=None,\n",
       "           min_impurity_decrease=0.0, min_impurity_split=None,\n",
       "           min_samples_leaf=5, min_samples_split=2,\n",
       "           min_weight_fraction_leaf=0.0, n_estimators=100, n_jobs=-1,\n",
       "           oob_score=True, random_state=100, verbose=0, warm_start=False)"
      ]
     },
     "execution_count": 100,
     "metadata": {},
     "output_type": "execute_result"
    }
   ],
   "source": [
    "rfm.fit(train_x,train_y)"
   ]
  },
  {
   "cell_type": "code",
   "execution_count": 101,
   "metadata": {},
   "outputs": [],
   "source": [
    "oof_rfm=rfm.predict(valid_x)"
   ]
  },
  {
   "cell_type": "code",
   "execution_count": 64,
   "metadata": {},
   "outputs": [
    {
     "name": "stdout",
     "output_type": "stream",
     "text": [
      "RMSLE of the model 0.1754679259949842\n"
     ]
    }
   ],
   "source": [
    "print(f\"RMSLE of the model {rmsle(valid_y,rfm.predict(valid_x))}\")"
   ]
  },
  {
   "cell_type": "markdown",
   "metadata": {},
   "source": [
    "The RMSE is too high .Lets try LGBM ."
   ]
  },
  {
   "cell_type": "code",
   "execution_count": 113,
   "metadata": {},
   "outputs": [],
   "source": [
    "param = {'num_leaves': 120,\n",
    "         'min_data_in_leaf': 3, \n",
    "         'objective':'regression',\n",
    "         'max_depth': -1,\n",
    "         'learning_rate': 0.008,\n",
    "         \"min_child_samples\": 5,\n",
    "         \"boosting\": \"gbdt\",\n",
    "         \"feature_fraction\": 0.9,\n",
    "         \"bagging_freq\": 1,\n",
    "         \"bagging_fraction\": 0.9 ,\n",
    "         \"bagging_seed\": 11,\n",
    "         \"metric\": 'rmse',\n",
    "         \"lambda_l1\": 0.1,\n",
    "         \"verbosity\": -1}"
   ]
  },
  {
   "cell_type": "code",
   "execution_count": 67,
   "metadata": {},
   "outputs": [],
   "source": [
    "train_lgb=lgb.Dataset(train_x,label=train_y)\n",
    "valid_lgb=lgb.Dataset(valid_x,label=valid_y)"
   ]
  },
  {
   "cell_type": "code",
   "execution_count": 114,
   "metadata": {},
   "outputs": [
    {
     "name": "stdout",
     "output_type": "stream",
     "text": [
      "Training until validation scores don't improve for 200 rounds.\n",
      "[100]\ttraining's rmse: 39690.3\tvalid_1's rmse: 47081.9\n",
      "[200]\ttraining's rmse: 21989.7\tvalid_1's rmse: 35335.2\n",
      "[300]\ttraining's rmse: 13894.8\tvalid_1's rmse: 31990.1\n",
      "[400]\ttraining's rmse: 9862.85\tvalid_1's rmse: 31180.3\n",
      "[500]\ttraining's rmse: 7505.18\tvalid_1's rmse: 30775.3\n",
      "[600]\ttraining's rmse: 5893.31\tvalid_1's rmse: 30524.8\n",
      "[700]\ttraining's rmse: 4736.36\tvalid_1's rmse: 30343.1\n",
      "[800]\ttraining's rmse: 3898.62\tvalid_1's rmse: 30282.1\n",
      "[900]\ttraining's rmse: 3259.2\tvalid_1's rmse: 30200.5\n",
      "[1000]\ttraining's rmse: 2744.59\tvalid_1's rmse: 30140.5\n",
      "[1100]\ttraining's rmse: 2366.44\tvalid_1's rmse: 30108.2\n",
      "[1200]\ttraining's rmse: 2040.63\tvalid_1's rmse: 30089\n",
      "[1300]\ttraining's rmse: 1788.83\tvalid_1's rmse: 30077.9\n",
      "[1400]\ttraining's rmse: 1579.91\tvalid_1's rmse: 30065.6\n",
      "[1500]\ttraining's rmse: 1416.45\tvalid_1's rmse: 30063.7\n",
      "[1600]\ttraining's rmse: 1275.9\tvalid_1's rmse: 30057.4\n",
      "[1700]\ttraining's rmse: 1161.34\tvalid_1's rmse: 30051.6\n",
      "[1800]\ttraining's rmse: 1067.61\tvalid_1's rmse: 30047.6\n",
      "[1900]\ttraining's rmse: 992.929\tvalid_1's rmse: 30045.4\n",
      "[2000]\ttraining's rmse: 930.081\tvalid_1's rmse: 30045.1\n",
      "[2100]\ttraining's rmse: 880.586\tvalid_1's rmse: 30044.9\n",
      "[2200]\ttraining's rmse: 839.718\tvalid_1's rmse: 30042.9\n",
      "[2300]\ttraining's rmse: 805.591\tvalid_1's rmse: 30040.8\n",
      "[2400]\ttraining's rmse: 777.915\tvalid_1's rmse: 30039.6\n",
      "[2500]\ttraining's rmse: 754.587\tvalid_1's rmse: 30035.8\n",
      "[2600]\ttraining's rmse: 734.064\tvalid_1's rmse: 30035.7\n",
      "[2700]\ttraining's rmse: 718.795\tvalid_1's rmse: 30034.1\n",
      "[2800]\ttraining's rmse: 707.007\tvalid_1's rmse: 30032.9\n",
      "[2900]\ttraining's rmse: 695.871\tvalid_1's rmse: 30032.5\n",
      "[3000]\ttraining's rmse: 687.203\tvalid_1's rmse: 30031.9\n",
      "[3100]\ttraining's rmse: 680.505\tvalid_1's rmse: 30031.9\n",
      "[3200]\ttraining's rmse: 674.825\tvalid_1's rmse: 30032.5\n",
      "[3300]\ttraining's rmse: 669.967\tvalid_1's rmse: 30031.2\n",
      "[3400]\ttraining's rmse: 666.033\tvalid_1's rmse: 30031.3\n",
      "[3500]\ttraining's rmse: 663.125\tvalid_1's rmse: 30030.9\n",
      "[3600]\ttraining's rmse: 660.697\tvalid_1's rmse: 30030.9\n",
      "Early stopping, best iteration is:\n",
      "[3416]\ttraining's rmse: 665.601\tvalid_1's rmse: 30030.4\n"
     ]
    }
   ],
   "source": [
    "#https://www.kaggle.com/ashishpatel26/hyper-parameter-tuning-code-for-lightgbm\n",
    "\n",
    "num_round=5000\n",
    "clf = lgb.train(param, train_lgb, num_round,valid_sets=[train_lgb,valid_lgb], verbose_eval=100,early_stopping_rounds=200)\n",
    "oof_lgb= clf.predict(valid_x, num_iteration=clf.best_iteration)"
   ]
  },
  {
   "cell_type": "code",
   "execution_count": 115,
   "metadata": {},
   "outputs": [
    {
     "name": "stdout",
     "output_type": "stream",
     "text": [
      "RMSLE of the model 0.1792698505184241\n"
     ]
    }
   ],
   "source": [
    "print(f\"RMSLE of the model {rmsle(valid_y,oof_lgb)}\")"
   ]
  },
  {
   "cell_type": "code",
   "execution_count": 116,
   "metadata": {},
   "outputs": [],
   "source": [
    "predictions=clf.predict(test[to_keep])"
   ]
  },
  {
   "cell_type": "code",
   "execution_count": 117,
   "metadata": {},
   "outputs": [],
   "source": [
    "pred_df = pd.DataFrame(predictions, index=test[\"Id\"], columns=[\"SalePrice\"])"
   ]
  },
  {
   "cell_type": "code",
   "execution_count": 118,
   "metadata": {},
   "outputs": [
    {
     "data": {
      "text/html": [
       "<div>\n",
       "<style scoped>\n",
       "    .dataframe tbody tr th:only-of-type {\n",
       "        vertical-align: middle;\n",
       "    }\n",
       "\n",
       "    .dataframe tbody tr th {\n",
       "        vertical-align: top;\n",
       "    }\n",
       "\n",
       "    .dataframe thead th {\n",
       "        text-align: right;\n",
       "    }\n",
       "</style>\n",
       "<table border=\"1\" class=\"dataframe\">\n",
       "  <thead>\n",
       "    <tr style=\"text-align: right;\">\n",
       "      <th></th>\n",
       "      <th>SalePrice</th>\n",
       "    </tr>\n",
       "    <tr>\n",
       "      <th>Id</th>\n",
       "      <th></th>\n",
       "    </tr>\n",
       "  </thead>\n",
       "  <tbody>\n",
       "    <tr>\n",
       "      <th>1461</th>\n",
       "      <td>117471.068649</td>\n",
       "    </tr>\n",
       "    <tr>\n",
       "      <th>1462</th>\n",
       "      <td>126097.186379</td>\n",
       "    </tr>\n",
       "    <tr>\n",
       "      <th>1463</th>\n",
       "      <td>189483.975295</td>\n",
       "    </tr>\n",
       "    <tr>\n",
       "      <th>1464</th>\n",
       "      <td>178944.940733</td>\n",
       "    </tr>\n",
       "    <tr>\n",
       "      <th>1465</th>\n",
       "      <td>185876.673350</td>\n",
       "    </tr>\n",
       "  </tbody>\n",
       "</table>\n",
       "</div>"
      ],
      "text/plain": [
       "          SalePrice\n",
       "Id                 \n",
       "1461  117471.068649\n",
       "1462  126097.186379\n",
       "1463  189483.975295\n",
       "1464  178944.940733\n",
       "1465  185876.673350"
      ]
     },
     "execution_count": 118,
     "metadata": {},
     "output_type": "execute_result"
    }
   ],
   "source": [
    "pred_df.head()"
   ]
  },
  {
   "cell_type": "code",
   "execution_count": null,
   "metadata": {},
   "outputs": [],
   "source": [
    "pred_df.to_csv('output.csv', header=True, index_label='Id')"
   ]
  }
 ],
 "metadata": {
  "kernelspec": {
   "display_name": "Python 3",
   "language": "python",
   "name": "python3"
  },
  "language_info": {
   "codemirror_mode": {
    "name": "ipython",
    "version": 3
   },
   "file_extension": ".py",
   "mimetype": "text/x-python",
   "name": "python",
   "nbconvert_exporter": "python",
   "pygments_lexer": "ipython3",
   "version": "3.7.1"
  },
  "toc": {
   "base_numbering": 1,
   "nav_menu": {},
   "number_sections": true,
   "sideBar": true,
   "skip_h1_title": true,
   "title_cell": "Table of Contents",
   "title_sidebar": "Contents",
   "toc_cell": false,
   "toc_position": {},
   "toc_section_display": true,
   "toc_window_display": false
  }
 },
 "nbformat": 4,
 "nbformat_minor": 2
}
